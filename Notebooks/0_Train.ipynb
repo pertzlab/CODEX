{
 "cells": [
  {
   "cell_type": "markdown",
   "metadata": {
    "pycharm": {
     "name": "#%% md\n"
    }
   },
   "source": [
    "# Training notebook\n",
    "\n",
    "This notebook will take you through all the steps to train a CNN classifier, the first step in a CODEX analysis. Follow the cells in order, modify them where needed and run them all. Hints and defaults values are suggested. Follow the training curves with Tensorboard to check whether you are satisfied with the model (good classification performance, moderated overfitting). You will probably have to give it a couple of runs before being fully satisfied. Keep in mind that the training will be orders of magnitude faster on GPU compared to CPU.\n",
    "\n",
    "## Import libraries\n",
    "\n",
    "Make sure to import the model class, dataset class and the required preprocessing operations (RandomCrop, ToTensor, Subtract...)."
   ]
  },
  {
   "cell_type": "code",
   "execution_count": 1,
   "metadata": {},
   "outputs": [
    {
     "name": "stderr",
     "output_type": "stream",
     "text": [
      "Global seed set to 7\n"
     ]
    },
    {
     "data": {
      "text/plain": [
       "7"
      ]
     },
     "execution_count": 1,
     "metadata": {},
     "output_type": "execute_result"
    }
   ],
   "source": [
    "# Standard libraries\n",
    "import torch\n",
    "import numpy as np\n",
    "from torch.utils.data import DataLoader\n",
    "from torchvision import transforms\n",
    "from torchsampler import ImbalancedDatasetSampler\n",
    "import datetime\n",
    "import pytorch_lightning as pl\n",
    "from pytorch_lightning.callbacks import LearningRateMonitor, ModelCheckpoint\n",
    "from torchsampler import ImbalancedDatasetSampler\n",
    "import os\n",
    "import zipfile\n",
    "import time\n",
    "import seaborn as sns\n",
    "import pandas as pd\n",
    "import warnings\n",
    "import sys\n",
    "\n",
    "# Custom functions/classes\n",
    "path_to_module = '../source'  # Path where all the .py files are, relative to the notebook folder\n",
    "sys.path.append(path_to_module)\n",
    "from load_data import DataProcesser\n",
    "from train_utils import even_intervals\n",
    "from models import *\n",
    "from class_dataset import myDataset, ToTensor, Subtract, RandomShift, RandomNoise, RandomCrop, FixedCrop\n",
    "\n",
    "# For reproducibility\n",
    "myseed = 7\n",
    "pl.utilities.seed.seed_everything(myseed)"
   ]
  },
  {
   "cell_type": "markdown",
   "metadata": {
    "pycharm": {
     "name": "#%% md\n"
    }
   },
   "source": [
    "## Define model architecture and set hyperparameters for training\n",
    "\n",
    "Models are defined in the file `models.py`. There are already 2 models defined in this file: LitConvNetCam and LitConvNetCamBi. Both are variations of the same CNN architecture. While the former is for univariate input, the second is for bivariate input. These models are implemented with Pytorch-Lightning, a wrapper library around Pytorch, which also enables to simply the implementation of the training process. The file `models.py` also contains the implementation of these models in base pytorch. If you decide to use the latter, you will have to rewrite the training loop yourself.\n",
    "\n",
    "For some parameters, you can leave the code to do an automatic inference by setting them to `None` (see later in the notebook). Read the description of the parameters below to know which parameters can be inferred automatically.\n",
    "\n",
    "Hyperparameters to set the model dimensions:\n",
    "- length: int or None. Length of the input time-series. If the input is multivariate, each channel will have the specified length. Setting it to a smaller value than the actual length of the trajectories can be used for data augmentation (see RandomCrop). If None, automatically detects the longest common length across al trajectories.\n",
    "- nclass: int or None. Number of output classes. If None, automatically detects the number of unique values in the class column of the dataset.\n",
    "- nfeatures: int, size of the input representation before the output layer. This also corresponds to the number of filters in the last convolution layer. Usually between 5 and 15.\n",
    "\n",
    "Hyperparameters for training:\n",
    "- nepochs: int, number of training epochs. Increase this if the loss curves are still decreasing at the end of the training. The range is very variable, but can be over hundreds.\n",
    "- batch_size: int, number of samples per batch. Conventionally, this is set to a power of 2.\n",
    "- L2_reg: float, L2 regularization factor. This helps to prevent overfitting by penalizing large weights in the model parameters. In general try to always have a mild regularization, say 1e-3. Increase if you face overfitting issues, decrease if you face underfitting.\n",
    "- lr: float, initial learning rate. This is the most important parameter to tweak to have a smooth learning curve. 1e-2 is usually a good starting value.\n",
    "\n",
    "By default, the learning rate is scheduled to decrease by a factor gamma at fixed epochs.\n",
    "- lr_decrease_schedule: list of integers or None, epochs at which to decrease the learning_rate. If None, the number of epochs will be evenly divided in bins of the same length. \n",
    "- lr_decrease_factor: float, factor by which the lr is multiplied at the specified epochs. Usually between 0.1 (divide by 10) and 0.5 (divide by 2).\n",
    "\n",
    "Other parameters:\n",
    "- ngpu: int, number of GPU used to perform the training. -1 means use all; 0 means use CPU only.\n",
    "- ncpu_LoadData: int, number of CPU cores used to load and preprocess the data that is passed to the network. This parameter is unrelated to `ngpu`: the model can be trained on GPU, while the data are loaded with CPU. If set too low, this parameter can become a bottleneck and slow down the training process.\n",
    "- data_imbalance: boolean, whether to attempt at handling imbalanced dataset. Data imbalance arises when some classes are clearly overrepresented or underrepresented. This can lead to a strong bias in the training of the CNN, which will tend to classify the rare classes as one of the most common classes. If set to True, the rare classes will be oversampled and the common classes will be undersampled in each data batch. See: https://github.com/ufoym/imbalanced-dataset-sampler\n"
   ]
  },
  {
   "cell_type": "code",
   "execution_count": 2,
   "metadata": {
    "pycharm": {
     "name": "#%%\n"
    }
   },
   "outputs": [],
   "source": [
    "# Architecture and dimensions of the model\n",
    "length = None\n",
    "nclass = None\n",
    "nfeatures = 10\n",
    "\n",
    "# Optimization parameters\n",
    "nepochs = 5\n",
    "batch_size = 64\n",
    "L2_reg = 1e-3\n",
    "lr = 1e-2\n",
    "lr_decrease_schedule = None\n",
    "lr_decrease_factor = 0.1\n",
    "\n",
    "# Misc\n",
    "ngpu = -1\n",
    "ncpu_LoadData = 4\n",
    "data_imbalance = False"
   ]
  },
  {
   "cell_type": "markdown",
   "metadata": {
    "pycharm": {
     "name": "#%% md\n"
    }
   },
   "source": [
    "## Load and process data, Data augmentation\n",
    "\n",
    "Define which data to load and whether/how to preprocess the batch. \n",
    "- data_file: str, path to a .zip that can be loaded as a DataProcesser. The zip archive must contain 3 files: one for the\n",
    " data (dataset.csv), one for the split train/validation/test (id_set.csv), one with the classes descriptions (classes.csv). See DataProcesser.read_archive() for format details.\n",
    "- meas_var: list of str or None, names of the measurement variables. In DataProcesser convention, this is the prefix in a\n",
    " column name that contains a measurement (time being the suffix). Pay attention to the order since this is how the dimensions of a sample of data will be ordered (i.e. 1st in the list will form 1st row of measurements in the sample, 2nd is the 2nd, etc...) If None, DataProcesser will extract automatically the measurement names and use the order of appearance in the column names.\n",
    "- start_time/end_time: int or None, use to subset data to a specific time range. If None, DataProcesser will extract automatically the range of time in the dataset columns. Useful to completely exclude some acquisition times where irrelevant measures are acquired."
   ]
  },
  {
   "cell_type": "code",
   "execution_count": 3,
   "metadata": {
    "pycharm": {
     "name": "#%%\n"
    }
   },
   "outputs": [],
   "source": [
    "data_file = '../sample_data/Synthetic_Univariate.zip'\n",
    "# data_file = '../sample_data/GrowthFactor_ErkAkt_Bivariate.zip'\n",
    "\n",
    "meas_var = None\n",
    "start_time = None\n",
    "end_time = None"
   ]
  },
  {
   "cell_type": "markdown",
   "metadata": {},
   "source": [
    "## Automatic inference of default parameters\n",
    "\n",
    "Store the parameters into dictionaries for tidiness."
   ]
  },
  {
   "cell_type": "code",
   "execution_count": 4,
   "metadata": {},
   "outputs": [],
   "source": [
    "config_model = {\n",
    "    'length': length,\n",
    "    'nclass': nclass,\n",
    "    'nfeatures': nfeatures,\n",
    "    'batch_size': batch_size,\n",
    "    'lr': lr,\n",
    "    'lr_scheduler_milestones': lr_decrease_schedule,\n",
    "    'lr_gamma': lr_decrease_factor,\n",
    "    'L2_reg': L2_reg\n",
    "    }\n",
    "\n",
    "config_trainer = {\n",
    "    'nepochs': nepochs,\n",
    "    'ngpu': ngpu\n",
    "}\n",
    "\n",
    "all_inputs = {\n",
    "    'data_file': data_file,\n",
    "    'meas_var': meas_var,\n",
    "    'start_time': start_time,\n",
    "    'end_time': end_time,\n",
    "    'ncpu_LoadData': ncpu_LoadData,\n",
    "    'data_imbalance': data_imbalance,\n",
    "    'seed': myseed,\n",
    "    \n",
    "}\n",
    "all_inputs.update(config_model)\n",
    "all_inputs.update(config_trainer)"
   ]
  },
  {
   "cell_type": "markdown",
   "metadata": {},
   "source": [
    "This cell will update all the parameters that were set to None in the previous cells. A print statement will be shown for each inferred value."
   ]
  },
  {
   "cell_type": "code",
   "execution_count": 5,
   "metadata": {},
   "outputs": [
    {
     "name": "stdout",
     "output_type": "stream",
     "text": [
      "Monovariate measurement detected (['FRST']), use <class 'models.LitConvNetCam'> architecture.\n",
      "Max common length detected: 750\n",
      "Number of classes detected: 2\n",
      "Learning Rate will be decreased at epochs: [1, 3]\n"
     ]
    }
   ],
   "source": [
    "# The data object is used to automatically derive some parameters (e.g. number of classes)\n",
    "data = DataProcesser(data_file, datatable=False)\n",
    "\n",
    "# Update default for the data\n",
    "meas_var = data.detect_groups_times()['groups'] if meas_var is None else meas_var\n",
    "start_time = data.detect_groups_times()['times'][0] if start_time is None else start_time\n",
    "end_time = data.detect_groups_times()['times'][1] if end_time is None else end_time\n",
    "\n",
    "# Choose architecture of the model according to data dimension\n",
    "nmeasurement = len(meas_var)\n",
    "if nmeasurement == 1:\n",
    "    architecture = LitConvNetCam\n",
    "    print('Monovariate measurement detected ({}), use {} architecture.'.format(meas_var, str(architecture)))\n",
    "elif nmeasurement == 2:\n",
    "    architecture = LitConvNetCamBi\n",
    "    print('Bivariate measurement detected ({}), use {} architecture.'.format(meas_var, str(architecture)))\n",
    "else:\n",
    "    raise NotImplementedError('This script is intended for monovariate and bivariate measurements only.\\\n",
    "            To extend to higher dimensions, create the appropriate model in `models.py` and explicitely choose this architecture.')\n",
    "\n",
    "# Update default for model\n",
    "update_model = {}\n",
    "if config_model['length'] is None:\n",
    "    max_common_length = data.get_max_common_length()\n",
    "    update_model['length'] = max_common_length\n",
    "    print('Max common length detected: {}'.format(max_common_length))\n",
    "if config_model['nclass'] is None:\n",
    "    nclass_detected = data.dataset[data.col_class].nunique()\n",
    "    update_model['nclass'] = nclass_detected\n",
    "    print('Number of classes detected: {}'.format(nclass_detected))\n",
    "if config_model['lr_scheduler_milestones'] is None:\n",
    "    schedule = even_intervals(nepochs, ninterval=3)\n",
    "    update_model['lr_scheduler_milestones'] = schedule\n",
    "    print('Learning Rate will be decreased at epochs: {}'.format(schedule))\n",
    "config_model.update(update_model)"
   ]
  },
  {
   "cell_type": "markdown",
   "metadata": {},
   "source": [
    "## Create objects with arguments"
   ]
  },
  {
   "cell_type": "markdown",
   "metadata": {},
   "source": [
    "### Create model object"
   ]
  },
  {
   "cell_type": "code",
   "execution_count": 6,
   "metadata": {},
   "outputs": [],
   "source": [
    "def make_model(architecture, **kwargs):\n",
    "    model = architecture(**kwargs)\n",
    "    model.double()\n",
    "    return model\n",
    "\n",
    "model = make_model(architecture=architecture, **config_model)"
   ]
  },
  {
   "cell_type": "markdown",
   "metadata": {},
   "source": [
    "### Subset the data, set the input preprocessing and create dataset objects"
   ]
  },
  {
   "cell_type": "code",
   "execution_count": 7,
   "metadata": {
    "pycharm": {
     "name": "#%% \n"
    }
   },
   "outputs": [
    {
     "name": "stdout",
     "output_type": "stream",
     "text": [
      "Channels order: ['FRST'] \n",
      "Time range: (0, 749) \n",
      "Classes: [0, 1]\n"
     ]
    }
   ],
   "source": [
    "# Select measurements and times, subset classes and split the dataset\n",
    "data.subset(sel_groups=meas_var, start_time=start_time, end_time=end_time)\n",
    "data.get_stats()\n",
    "data.split_sets()\n",
    "\n",
    "# Input preprocessing, this is done sequentially, on the fly when the input is passed to the network\n",
    "average_perChannel = [data.stats['mu'][meas]['train'] for meas in meas_var]\n",
    "ls_transforms = transforms.Compose([\n",
    "    RandomCrop(output_size=config_model['length'], ignore_na_tails=True),\n",
    "    Subtract(average_perChannel),\n",
    "    ToTensor()])\n",
    "\n",
    "# Define the dataset objects that associate data to preprocessing and define the content of a batch\n",
    "# A batch of myDataset contains: the trajectories, the trajectories identifier and the trajecotires class identifier\n",
    "data_train = myDataset(dataset=data.train_set, transform=ls_transforms)\n",
    "data_validation = myDataset(dataset=data.validation_set, transform=ls_transforms)\n",
    "\n",
    "if config_model['batch_size'] > len(data_train) or config_model['batch_size'] > len(data_validation):\n",
    "    raise ValueError('Batch size ({}) must be smaller than the number of trajectories in the training ({}) and the validation ({}) sets.'.format(config_model['batch_size'], len(data_train), len(data_validation)))\n",
    "\n",
    "# Quick recap of the data content\n",
    "print('Channels order: {} \\nTime range: ({}, {}) \\nClasses: {}'.format(meas_var, start_time, end_time, list(data.dataset[data.col_class].unique())))\n",
    "nclass_data = len(list(data.dataset[data.col_class].unique()))\n",
    "if config_model['nclass'] != nclass_data:\n",
    "    warnings.warn('The number of classes in the model output ({}) is not equal to the number of classes in the data ({}).'.format(config_model['nclass'], nclass_data))"
   ]
  },
  {
   "cell_type": "markdown",
   "metadata": {},
   "source": [
    "Plot some trajectories to check that the data loading and preprocessing is properly done. The curves appear here as they will be presented to the CNN."
   ]
  },
  {
   "cell_type": "code",
   "execution_count": 8,
   "metadata": {
    "scrolled": false
   },
   "outputs": [
    {
     "data": {
      "text/plain": [
       "<seaborn.axisgrid.FacetGrid at 0x7feb678525b0>"
      ]
     },
     "execution_count": 8,
     "metadata": {},
     "output_type": "execute_result"
    },
    {
     "data": {
      "image/png": "[encoded data removed]",
      "text/plain": [
       "<Figure size 715.35x432 with 6 Axes>"
      ]
     },
     "metadata": {},
     "output_type": "display_data"
    }
   ],
   "source": [
    "n_smpl = 6\n",
    "indx_smpl = np.random.randint(0, len(data_train), n_smpl)\n",
    "\n",
    "col_ids = []\n",
    "col_lab = []\n",
    "col_mes = []\n",
    "# Long format for seaborn grid, for loop to avoid multiple indexing\n",
    "# This would triggers preprocessing multiple times and add randomness\n",
    "for i in indx_smpl:\n",
    "    smpl = data_train[i]\n",
    "    col_ids.append(smpl['identifier'])\n",
    "    col_lab.append(smpl['label'].item())\n",
    "    col_mes.append(smpl['series'].numpy().transpose())\n",
    "col_ids = pd.Series(np.hstack(np.repeat(col_ids, config_model['length'])))\n",
    "col_lab = pd.Series(np.hstack(np.repeat(col_lab, config_model['length'])))\n",
    "col_mes = pd.DataFrame(np.vstack(col_mes), columns=meas_var)\n",
    "col_tim = pd.Series(np.tile(np.arange(0, config_model['length']), n_smpl))\n",
    "\n",
    "df_smpl = pd.concat([col_ids, col_lab, col_tim, col_mes], axis=1)\n",
    "df_smpl.rename(columns={0: 'identifier', 1: 'label', 2:'time'}, inplace=True)\n",
    "df_smpl = df_smpl.melt(id_vars=['identifier', 'label', 'time'], value_vars=meas_var)\n",
    "\n",
    "sns.set_style('white')\n",
    "sns.set_context('notebook')\n",
    "grid = sns.FacetGrid(data=df_smpl, col='identifier', col_wrap=3, sharex=True)\n",
    "grid.map_dataframe(sns.lineplot, x='time', y='value', hue='variable')\n",
    "grid.set(xlabel='Time', ylabel='Measurement Value')\n",
    "grid.add_legend()"
   ]
  },
  {
   "cell_type": "markdown",
   "metadata": {
    "pycharm": {
     "name": "#%% md\n"
    }
   },
   "source": [
    "## Tensorboard logs and model save file\n",
    "\n",
    "Define where the directory where training logs will be saved and the file where the model will be saved. By default, creates two subdirectories in the working directory: models and logs. An unique name for the logs and the model is created by appending the measurement name to the current timestamp.\n",
    "\n",
    "The model training can be monitored in real-time in Tensorboard with these logs."
   ]
  },
  {
   "cell_type": "code",
   "execution_count": 9,
   "metadata": {
    "pycharm": {
     "name": "#%% \n"
    }
   },
   "outputs": [],
   "source": [
    "file_data = os.path.splitext(os.path.basename(data_file))[0]  # file name without extension\n",
    "timestamp = datetime.datetime.now().strftime('%Y-%m-%d-%H__%M__%S')\n",
    "\n",
    "dir_logs = 'logs/'\n",
    "subdir_logs = '_'.join(meas_var)\n",
    "file_logs =  '_'.join([timestamp, file_data])\n",
    "dir_model = 'models/' + '_'.join(meas_var)\n",
    "file_model = '_'.join([timestamp, file_data])\n",
    "\n",
    "if not os.path.exists(dir_model):\n",
    "    os.makedirs(dir_model)\n",
    "if not os.path.exists(dir_logs):\n",
    "    os.makedirs(dir_logs)\n",
    "\n",
    "tb_logger = pl.loggers.TensorBoardLogger(save_dir=dir_logs, name=subdir_logs, version=file_logs, default_hp_metric=False)"
   ]
  },
  {
   "cell_type": "markdown",
   "metadata": {},
   "source": [
    "## Equivalent call with command line script"
   ]
  },
  {
   "cell_type": "markdown",
   "metadata": {},
   "source": [
    "This table presents the correspondence between the variables set in this notebook and the arguments for the script `train_model.py`."
   ]
  },
  {
   "cell_type": "code",
   "execution_count": 10,
   "metadata": {},
   "outputs": [
    {
     "data": {
      "text/html": [
       "<div>\n",
       "<style scoped>\n",
       "    .dataframe tbody tr th:only-of-type {\n",
       "        vertical-align: middle;\n",
       "    }\n",
       "\n",
       "    .dataframe tbody tr th {\n",
       "        vertical-align: top;\n",
       "    }\n",
       "\n",
       "    .dataframe thead th {\n",
       "        text-align: right;\n",
       "    }\n",
       "</style>\n",
       "<table border=\"1\" class=\"dataframe\">\n",
       "  <thead>\n",
       "    <tr style=\"text-align: right;\">\n",
       "      <th></th>\n",
       "      <th>value</th>\n",
       "      <th>script_name</th>\n",
       "    </tr>\n",
       "  </thead>\n",
       "  <tbody>\n",
       "    <tr>\n",
       "      <th>data_file</th>\n",
       "      <td>../sample_data/Synthetic_Univariate.zip</td>\n",
       "      <td>-d</td>\n",
       "    </tr>\n",
       "    <tr>\n",
       "      <th>meas_var</th>\n",
       "      <td>None</td>\n",
       "      <td>-m</td>\n",
       "    </tr>\n",
       "    <tr>\n",
       "      <th>start_time</th>\n",
       "      <td>None</td>\n",
       "      <td>--startTime</td>\n",
       "    </tr>\n",
       "    <tr>\n",
       "      <th>end_time</th>\n",
       "      <td>None</td>\n",
       "      <td>--endTime</td>\n",
       "    </tr>\n",
       "    <tr>\n",
       "      <th>ncpu_LoadData</th>\n",
       "      <td>4</td>\n",
       "      <td>--ncpuLoad</td>\n",
       "    </tr>\n",
       "    <tr>\n",
       "      <th>data_imbalance</th>\n",
       "      <td>False</td>\n",
       "      <td>--no-imba</td>\n",
       "    </tr>\n",
       "    <tr>\n",
       "      <th>seed</th>\n",
       "      <td>7</td>\n",
       "      <td>--seed</td>\n",
       "    </tr>\n",
       "    <tr>\n",
       "      <th>length</th>\n",
       "      <td>None</td>\n",
       "      <td>-l</td>\n",
       "    </tr>\n",
       "    <tr>\n",
       "      <th>nclass</th>\n",
       "      <td>None</td>\n",
       "      <td>-c</td>\n",
       "    </tr>\n",
       "    <tr>\n",
       "      <th>nfeatures</th>\n",
       "      <td>10</td>\n",
       "      <td>-f</td>\n",
       "    </tr>\n",
       "    <tr>\n",
       "      <th>batch_size</th>\n",
       "      <td>64</td>\n",
       "      <td>-b</td>\n",
       "    </tr>\n",
       "    <tr>\n",
       "      <th>lr</th>\n",
       "      <td>0.01</td>\n",
       "      <td>-r</td>\n",
       "    </tr>\n",
       "    <tr>\n",
       "      <th>lr_scheduler_milestones</th>\n",
       "      <td>None</td>\n",
       "      <td>-s</td>\n",
       "    </tr>\n",
       "    <tr>\n",
       "      <th>lr_gamma</th>\n",
       "      <td>0.1</td>\n",
       "      <td>-g</td>\n",
       "    </tr>\n",
       "    <tr>\n",
       "      <th>L2_reg</th>\n",
       "      <td>0.001</td>\n",
       "      <td>-p</td>\n",
       "    </tr>\n",
       "    <tr>\n",
       "      <th>nepochs</th>\n",
       "      <td>5</td>\n",
       "      <td>-e</td>\n",
       "    </tr>\n",
       "    <tr>\n",
       "      <th>ngpu</th>\n",
       "      <td>0</td>\n",
       "      <td>--ngpu</td>\n",
       "    </tr>\n",
       "    <tr>\n",
       "      <th>dir_logs</th>\n",
       "      <td>logs/</td>\n",
       "      <td>--logdir</td>\n",
       "    </tr>\n",
       "  </tbody>\n",
       "</table>\n",
       "</div>"
      ],
      "text/plain": [
       "                                                           value  script_name\n",
       "data_file                ../sample_data/Synthetic_Univariate.zip           -d\n",
       "meas_var                                                    None           -m\n",
       "start_time                                                  None  --startTime\n",
       "end_time                                                    None    --endTime\n",
       "ncpu_LoadData                                                  4   --ncpuLoad\n",
       "data_imbalance                                             False    --no-imba\n",
       "seed                                                           7       --seed\n",
       "length                                                      None           -l\n",
       "nclass                                                      None           -c\n",
       "nfeatures                                                     10           -f\n",
       "batch_size                                                    64           -b\n",
       "lr                                                          0.01           -r\n",
       "lr_scheduler_milestones                                     None           -s\n",
       "lr_gamma                                                     0.1           -g\n",
       "L2_reg                                                     0.001           -p\n",
       "nepochs                                                        5           -e\n",
       "ngpu                                                           0       --ngpu\n",
       "dir_logs                                                   logs/     --logdir"
      ]
     },
     "execution_count": 10,
     "metadata": {},
     "output_type": "execute_result"
    }
   ],
   "source": [
    "all_inputs['dir_logs'] = dir_logs\n",
    "dict_script_inputs = {\n",
    "    'data_file': '-d',\n",
    "    'meas_var': '-m',\n",
    "    'start_time': '--startTime',\n",
    "    'end_time': '--endTime',\n",
    "    'ncpu_LoadData': '--ncpuLoad',\n",
    "    'length': '-l',\n",
    "    'nclass': '-c',\n",
    "    'nfeatures': '-f',\n",
    "    'batch_size': '-b',\n",
    "    'lr': '-r',\n",
    "    'lr_scheduler_milestones': '-s',\n",
    "    'lr_gamma': '-g',\n",
    "    'L2_reg': '-p',\n",
    "    'nepochs': '-e',\n",
    "    'ngpu': '--ngpu',\n",
    "    'seed': '--seed',\n",
    "    'dir_logs': '--logdir'\n",
    "}\n",
    "dict_script_inputs['data_imbalance'] = '--imba' if data_imbalance else '--no-imba'\n",
    "\n",
    "df_inputs = pd.DataFrame.from_dict(all_inputs, orient='index', columns=['value'])\n",
    "df_inputs['script_name'] = pd.Series(dict_script_inputs)\n",
    "df_inputs"
   ]
  },
  {
   "cell_type": "markdown",
   "metadata": {},
   "source": [
    "Hence, the same training could have been obtained with the following call from the command line (make sure that the right conda environment is activated):"
   ]
  },
  {
   "cell_type": "code",
   "execution_count": 11,
   "metadata": {},
   "outputs": [
    {
     "name": "stdout",
     "output_type": "stream",
     "text": [
      "python ../source/train_model.py -d ../sample_data/Synthetic_Univariate.zip --ncpuLoad 4 --seed 7 -f 10 -b 64 -r 0.01 -g 0.1 -p 0.001 -e 5 --ngpu 0 --logdir logs/\n"
     ]
    }
   ],
   "source": [
    "# Do not include inferred parameters for conciseness\n",
    "df_script = df_inputs[df_inputs['value'].notna()].drop('data_imbalance')\n",
    "call = 'python ../source/train_model.py ' + ' '.join(df_script['script_name'] + ' ' + df_script['value'].astype('str'))\n",
    "call = (call + ' --imba') if data_imbalance else call\n",
    "print(call)"
   ]
  },
  {
   "cell_type": "markdown",
   "metadata": {
    "pycharm": {
     "name": "#%% md\n"
    }
   },
   "source": [
    "## Train the model\n",
    "\n",
    "Can follow the training in tensorboard with:\n",
    "```\n",
    "tensorboard --logdir \"path/to/logs\"\n",
    "```"
   ]
  },
  {
   "cell_type": "code",
   "execution_count": null,
   "metadata": {
    "pycharm": {
     "name": "#%%\n"
    },
    "scrolled": true,
    "tags": []
   },
   "outputs": [
    {
     "name": "stderr",
     "output_type": "stream",
     "text": [
      "GPU available: True, used: False\n",
      "TPU available: False, using: 0 TPU cores\n",
      "/home/marc/anaconda3/envs/new_codex/lib/python3.9/site-packages/pytorch_lightning/utilities/distributed.py:69: UserWarning: GPU available but not used. Set the gpus flag in your trainer `Trainer(gpus=1)` or script `--gpus=1`.\n",
      "  warnings.warn(*args, **kwargs)\n",
      "\n",
      "  | Name       | Type             | Params\n",
      "------------------------------------------------\n",
      "0 | loss       | CrossEntropyLoss | 0     \n",
      "1 | train_acc  | Accuracy         | 0     \n",
      "2 | val_acc    | Accuracy         | 0     \n",
      "3 | train_f1   | F1               | 0     \n",
      "4 | val_f1     | F1               | 0     \n",
      "5 | features   | Sequential       | 8.2 K \n",
      "6 | pool       | AvgPool1d        | 0     \n",
      "7 | classifier | Sequential       | 22    \n",
      "------------------------------------------------\n",
      "8.3 K     Trainable params\n",
      "0         Non-trainable params\n",
      "8.3 K     Total params\n",
      "0.033     Total estimated model params size (MB)\n"
     ]
    },
    {
     "name": "stdout",
     "output_type": "stream",
     "text": [
      "Validation sanity check:  50%|█████     | 1/2 [00:00<00:00,  3.12it/s]"
     ]
    }
   ],
   "source": [
    "if data_imbalance:\n",
    "     train_sampler = ImbalancedDatasetSampler(data_train, callback_get_label=get_label_forImbaSampler)\n",
    "     train_shuffle = False\n",
    "else:\n",
    "     train_sampler = None\n",
    "     train_shuffle = True\n",
    "\n",
    "train_loader = DataLoader(dataset=data_train,\n",
    "                          batch_size=config_model['batch_size'],\n",
    "                          shuffle=train_shuffle,\n",
    "                          sampler=train_sampler,\n",
    "                          num_workers=ncpu_LoadData,\n",
    "                          drop_last=True)\n",
    "\n",
    "validation_loader = DataLoader(dataset=data_validation,\n",
    "                               batch_size=config_model['batch_size'],\n",
    "                               shuffle=False,\n",
    "                               num_workers=ncpu_LoadData,\n",
    "                               drop_last=True)\n",
    "\n",
    "t0 = time.time()\n",
    "lr_monitor = LearningRateMonitor(logging_interval='epoch')\n",
    "trainer = pl.Trainer(\n",
    "     callbacks=[\n",
    "       lr_monitor\n",
    "     ],\n",
    "     max_epochs=nepochs,\n",
    "     min_epochs=nepochs,\n",
    "     gpus=ngpu,\n",
    "     log_every_n_steps=1,\n",
    "     logger=tb_logger,\n",
    "     benchmark=True\n",
    ")\n",
    "trainer.fit(model, train_loader, validation_loader)\n",
    "file_model = tb_logger.log_dir + '.pytorch'\n",
    "torch.save(model, file_model)\n",
    "t1 = time.time()\n",
    "\n",
    "print('Elapsed time: {:.2f} min'.format((t1 - t0)/60))"
   ]
  },
  {
   "cell_type": "markdown",
   "metadata": {},
   "source": [
    "## What's next\n",
    "\n",
    "- Make sure that you are satisfied with the model. A quick way to do this is to check the Tensorboard logs. Check in priority if the classification performance are good enough (top1/top2 indicators) and that there is no serious problems of overfitting (difference between the training and validation sets should remain reasonably small).\n",
    "- When possible, try to play around with the parameters before deciding on a given model. In priority, try to tweak the initial learning rate by a few orders of magnitude and the learning rate scheduler to see if you can get a smoothly converging training curve. If your model is overfitting try to reduce the number of features or to increase the L2 regularization strength.\n",
    "- When you are satisfied with the model, you can go on the next notebooks to identify prototype trajectories and to identify class-discriminative motifs with CAMs.\n",
    "- Alternatively, you can use the companion app to browse an interactive projection of the CNN features."
   ]
  },
  {
   "cell_type": "markdown",
   "metadata": {
    "pycharm": {
     "name": "#%% md\n"
    }
   },
   "source": [
    "## Details and tips to setup loss and optimizer\n",
    "\n",
    "The loss (called criterion in pytorch convention) against which the model is trained is defined here. For regular classification tasks use the CrossEntropyLoss. All available options are listed here: https://pytorch.org/docs/1.1.0/nn.html#loss-functions\n",
    "\n",
    "The optimizer defines which algorithm is used to update the weights of the model through the training. L2 regularization is controlled by the \"weight_decay\" argument in the optimizer object. Adam optimizer with default parameters is a good default. All available options are listed here: https://pytorch.org/docs/1.1.0/optim.html#algorithms\n",
    "\n",
    "Scheduler defines how the learning rate should evolve through the training. In order to get a smooth training and better classification performance, it needs to be reduced after some epochs. One of the easiest scheduler is the MultiStepLR which reduces the learning rate by a factor gamma when milestone epochs are reached. To start, just try to divide the learning rate by a factor 0.1, 3-4 times through the training. All available options are listed here: https://pytorch.org/docs/1.1.0/optim.html#how-to-adjust-learning-rate"
   ]
  }
 ],
 "metadata": {
  "interpreter": {
   "hash": "6c0a5290e74366e0144b65c3be5fe5d20469296e0347e87f649568a26c4ad87c"
  },
  "kernelspec": {
   "display_name": "Python 3.9.4 64-bit ('new_codex': conda)",
   "name": "python3"
  },
  "language_info": {
   "codemirror_mode": {
    "name": "ipython",
    "version": 3
   },
   "file_extension": ".py",
   "mimetype": "text/x-python",
   "name": "python",
   "nbconvert_exporter": "python",
   "pygments_lexer": "ipython3",
   "version": "3.9.4"
  },
  "pycharm": {
   "stem_cell": {
    "cell_type": "raw",
    "metadata": {
     "collapsed": false
    },
    "source": []
   }
  }
 },
 "nbformat": 4,
 "nbformat_minor": 1
}
